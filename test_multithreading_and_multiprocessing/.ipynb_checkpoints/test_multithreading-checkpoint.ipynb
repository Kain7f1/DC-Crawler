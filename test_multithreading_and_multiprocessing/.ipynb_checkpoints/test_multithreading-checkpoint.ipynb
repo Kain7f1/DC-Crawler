{
 "cells": [
  {
   "cell_type": "markdown",
   "id": "ab2a04cb-f78e-4a94-bac4-a4900aaacaab",
   "metadata": {},
   "source": [
    "# 멀티스레딩, 멀티프로세싱 테스트 Test Multithreading, Multiprocessing\n",
    "- 2024/01/17\n",
    "- 어느 블로그에 따르면, 99초 걸리던 작업을 6초까지 단축시킬 수 있다고 한다.\n",
    "- 1. 멀티스레딩, 멀티프로세싱 예제를 실행해본다.\n",
    "  2. 예제는 나무위키 크롤링이며, 나무위키의 html 구조가 바뀌어, 기존 예제를 수정한다.\n",
    "- 3. DC 크롤러에 적용하여, 성능을 개선한다.\n",
    "- 블로그 링크 : https://keyhyuk-kim.medium.com/python-%ED%81%AC%EB%A1%A4%EB%9F%AC-%EB%A9%80%ED%8B%B0%ED%94%84%EB%A1%9C%EC%84%B8%EC%8A%A4-%EB%A9%80%ED%8B%B0%EC%8A%A4%EB%A0%88%EB%93%9C%EB%A1%9C-%EC%84%B1%EB%8A%A5-%EC%A5%90%EC%96%B4%EC%A7%9C%EA%B8%B0-a7712bcbaa4"
   ]
  },
  {
   "cell_type": "markdown",
   "id": "f0d4d023-2fcd-4000-8bc1-8838aa26aefa",
   "metadata": {},
   "source": [
    "## a. 예제"
   ]
  },
  {
   "cell_type": "markdown",
   "id": "83e2831c-0f47-4f2d-8ce7-5d4684f425db",
   "metadata": {
    "jp-MarkdownHeadingCollapsed": true
   },
   "source": [
    "### a-1. 예제 : 기존 코드\n",
    "- 나무위키를 크롤링한다"
   ]
  },
  {
   "cell_type": "markdown",
   "id": "26eb93cb-aea6-4b91-807b-ab963753f250",
   "metadata": {},
   "source": [
    "#### a-1-1. 함수 정의"
   ]
  },
  {
   "cell_type": "code",
   "execution_count": 1,
   "id": "f4856f4a-82cd-44c5-9790-4c471c4eec45",
   "metadata": {},
   "outputs": [],
   "source": [
    "from fake_useragent import UserAgent\n",
    "from time import sleep\n",
    "from multiprocessing import Pool\n",
    "from concurrent.futures import ThreadPoolExecutor\n",
    "from bs4 import BeautifulSoup\n",
    "from selenium import webdriver\n",
    "import concurrent.futures\n",
    "import urllib.request  \n",
    "import requests\n",
    "import time"
   ]
  },
  {
   "cell_type": "code",
   "execution_count": 2,
   "id": "b08d866a-6f32-4a38-9447-d81f1fc2b3ce",
   "metadata": {},
   "outputs": [],
   "source": [
    "urls = [\"https://namu.wiki/w/%EB%B6%84%EB%A5%98:%EC%A0%95%EC%88%98\", \n",
    "        'https://namu.wiki/w/%EB%B6%84%EB%A5%98:%EC%88%98', \n",
    "        'https://namu.wiki/w/%EB%aB6%84%EB%A5%98:%ED%95%9C%EA%B5%AD%20%EC%95%84%EC%9D%B4%EB%8F%8C', \n",
    "        'https://namu.wiki/w/%EB%B6%84%EB%A5%98:%EA%B1%B8%EA%B7%B8%EB%A3%B9']\n",
    "\n",
    "limit = 20\n",
    "\n",
    "# 함수 : a 태그붙은 url 가져오기\n",
    "def get_sublist_href(url: str):\n",
    "    namu_link = []\n",
    "\n",
    "    # 파싱된 html 가져오기\n",
    "    request = requests.get(url)\n",
    "    sleep(1)\n",
    "    parsed_html = BeautifulSoup(request.text, 'html.parser')\n",
    "\n",
    "    # \n",
    "    a_element_tags = parsed_html.find_all('div', attrs={'class' : '_5pchnzVo'})\n",
    "    for tag in a_element_tags:\n",
    "        for link in tag.find_all('a'):\n",
    "            try:\n",
    "                namu_link.append(url + link['href'])\n",
    "            except:\n",
    "                continue\n",
    "    \n",
    "    namu_link = namu_link[:limit]\n",
    "    print('Number of site: ', len(namu_link))\n",
    "    return namu_link"
   ]
  },
  {
   "cell_type": "code",
   "execution_count": 3,
   "id": "8f0609de-5bf0-4dc9-825a-fe30a51b7ddd",
   "metadata": {},
   "outputs": [],
   "source": [
    "# 함수 : 해당 url의 html 가져오기\n",
    "def do_html_crawl(url: str):\n",
    "    request = requests.get(url)\n",
    "    sleep(1)\n",
    "    parsed_html = BeautifulSoup(request.text, 'html.parser')\n",
    "    return parsed_html"
   ]
  },
  {
   "cell_type": "markdown",
   "id": "185fbd9d-3ea1-4291-832c-e20b990417df",
   "metadata": {},
   "source": [
    "#### a-1-2. 실행"
   ]
  },
  {
   "cell_type": "code",
   "execution_count": 4,
   "id": "5baabc78-88b8-4bf6-9013-f00c0f4f57cc",
   "metadata": {},
   "outputs": [
    {
     "name": "stdout",
     "output_type": "stream",
     "text": [
      "Number of site:  20\n",
      "Number of site:  20\n",
      "Number of site:  0\n",
      "Number of site:  17\n",
      "--- elapsed time 85.80311489105225 seconds ---\n"
     ]
    }
   ],
   "source": [
    "# 실행\n",
    "result = []\n",
    "if __name__ == \"__main__\":\n",
    "    start_time = time.time()\n",
    "    for url in urls:\n",
    "        sub_url_list = get_sublist_href(url)\n",
    "        for sub_url in sub_url_list:\n",
    "            result.append(do_html_crawl(sub_url))\n",
    "    print(\"--- elapsed time %s seconds ---\" % (time.time() - start_time))"
   ]
  },
  {
   "cell_type": "markdown",
   "id": "9dadb6e0-7094-41b7-bdc6-43fe573de834",
   "metadata": {},
   "source": [
    "#### a-1-3. 결과확인\n",
    "- 113.494 초\n",
    "- 데이터 수집 성공적"
   ]
  },
  {
   "cell_type": "code",
   "execution_count": 14,
   "id": "6d9b521b-78b3-4954-9676-d295cf2ba9d8",
   "metadata": {},
   "outputs": [
    {
     "data": {
      "text/plain": [
       "77"
      ]
     },
     "execution_count": 14,
     "metadata": {},
     "output_type": "execute_result"
    }
   ],
   "source": [
    "len(result)"
   ]
  },
  {
   "cell_type": "code",
   "execution_count": 21,
   "id": "a7aa123f-306c-4ef1-b8c5-7edd443ae445",
   "metadata": {},
   "outputs": [
    {
     "data": {
      "text/plain": [
       "list"
      ]
     },
     "execution_count": 21,
     "metadata": {},
     "output_type": "execute_result"
    }
   ],
   "source": [
    "type(result)"
   ]
  },
  {
   "cell_type": "code",
   "execution_count": 22,
   "id": "68095550-7291-47f0-8784-f5ca8e494cc6",
   "metadata": {},
   "outputs": [
    {
     "data": {
      "text/plain": [
       "bs4.BeautifulSoup"
      ]
     },
     "execution_count": 22,
     "metadata": {},
     "output_type": "execute_result"
    }
   ],
   "source": [
    "type(result[0])"
   ]
  },
  {
   "cell_type": "code",
   "execution_count": 15,
   "id": "524bc99d-33b6-43c2-a215-41c471738220",
   "metadata": {
    "scrolled": true
   },
   "outputs": [
    {
     "data": {
      "text/plain": [
       "<!DOCTYPE html>\n",
       "\n",
       "<html data-n-head-ssr=\"\"><head><title>분류:정수/w/분류:소수(수론) - 나무위키</title><meta charset=\"utf-8\" data-n-head=\"ssr\"/><meta content=\"user-scalable=no, initial-scale=1.0, maximum-scale=5.0, minimum-scale=1.0, width=device-width\" data-n-head=\"ssr\" name=\"viewport\"/><meta content=\"ie=edge\" data-n-head=\"ssr\" http-equv=\"x-ua-compatible\"/><meta content=\"the seed\" data-n-head=\"ssr\" name=\"generator\"/><meta content=\"yes\" data-n-head=\"ssr\" name=\"mobile-web-app-capable\"/><meta content=\"나무위키\" data-n-head=\"ssr\" name=\"application-name\"/><meta content=\"나무위키\" data-n-head=\"ssr\" name=\"msapplication-tooltip\"/><meta content=\"/w/%EB%82%98%EB%AC%B4%EC%9C%84%ED%82%A4:%EB%8C%80%EB%AC%B8\" data-n-head=\"ssr\" name=\"msapplication-starturl\"/><meta content=\"#008275\" data-n-head=\"ssr\" name=\"theme-color\"/><meta content=\"noarchive\" data-n-head=\"ssr\" name=\"googlebot\"/><link data-n-head=\"ssr\" href=\"https://namu.wiki/w/%EB%B6%84%EB%A5%98:%EC%A0%95%EC%88%98/w/%EB%B6%84%EB%A5%98:%EC%86%8C%EC%88%98(%EC%88%98%EB%A1%A0)\" rel=\"canonical\"/><link data-n-head=\"ssr\" href=\"/opensearch.xml\" rel=\"search\" title=\"나무위키\" type=\"application/opensearchdescription+xml\"/><link data-n-head=\"ssr\" href=\"/favicon.svg\" rel=\"icon\" sizes=\"any\" type=\"image/svg+xml\"/><link data-n-head=\"ssr\" href=\"/favicon-32.png\" rel=\"icon\" sizes=\"32x32\" type=\"image/png\"/><link data-n-head=\"ssr\" href=\"/favicon-192.png\" rel=\"icon\" sizes=\"192x192\" type=\"image/png\"/><link data-n-head=\"ssr\" href=\"/img/apple_icon.png\" rel=\"apple-touch-icon\"/><script async=\"\" data-n-head=\"ssr\" src=\"https://securepubads.g.doubleclick.net/tag/js/gpt.js\"></script><link as=\"script\" href=\"/skins/senkawa/manifest.ed4423bfd2d99245735a.js\" rel=\"preload\"/><link as=\"script\" href=\"/skins/senkawa/vendor.069482f2d172c6ff4410.js\" rel=\"preload\"/><link as=\"style\" href=\"/skins/senkawa/156.0422d50ae31e17173674.css\" rel=\"preload\"/><link as=\"style\" href=\"/skins/senkawa/main.6ca3f4146d57e5f465f0.css\" rel=\"preload\"/><link as=\"script\" href=\"/skins/senkawa/main.6ca3f4146d57e5f465f0.js\" rel=\"preload\"/><link as=\"style\" href=\"/skins/senkawa/7.476bc85b8160d2b1ce9d.css\" rel=\"preload\"/><link as=\"script\" href=\"/skins/senkawa/7.476bc85b8160d2b1ce9d.js\" rel=\"preload\"/><link href=\"/skins/senkawa/156.0422d50ae31e17173674.css\" rel=\"stylesheet\"/><link href=\"/skins/senkawa/main.6ca3f4146d57e5f465f0.css\" rel=\"stylesheet\"/><link href=\"/skins/senkawa/7.476bc85b8160d2b1ce9d.css\" rel=\"stylesheet\"/></head><body><div data-server-rendered=\"true\" id=\"app\"><!-- --><div class=\"app senkawa-fixed-size senkawa-fixed-1300\" data-v-a9a8d948=\"\" id=\"dQejgkAm5\"><div class=\"CE7R1skQ\" data-v-9c73c1ee=\"\" data-v-a9a8d948=\"\"><nav class=\"g88F3I5y\" data-v-9c73c1ee=\"\"><a class=\"_0wl1wqJm\" data-v-9c73c1ee=\"\" href=\"/\"></a> <ul data-v-9c73c1ee=\"\"><li data-v-6678db84=\"\" data-v-9c73c1ee=\"\"><a data-v-6678db84=\"\" href=\"/RecentChanges\" title=\"최근 변경\"><span class=\"n2MLAa5S ion-md-compass\" data-v-6678db84=\"\"></span> <span class=\"Ok1SND3e\" data-v-6678db84=\"\">최근 변경</span></a></li> <li data-v-6678db84=\"\" data-v-9c73c1ee=\"\"><a data-v-6678db84=\"\" href=\"/RecentDiscuss\" title=\"최근 토론\"><span class=\"n2MLAa5S ion-md-text\" data-v-6678db84=\"\"></span> <span class=\"Ok1SND3e\" data-v-6678db84=\"\">최근 토론</span></a></li> <li data-v-9c73c1ee=\"\" data-v-b3baf8e0=\"\"><a data-v-b3baf8e0=\"\" href=\"#\" title=\"특수 기능\"><span class=\"ohCiCr-0 ion-ios-cube\" data-v-b3baf8e0=\"\"></span> <span class=\"qrzNtUJg\" data-v-b3baf8e0=\"\">특수 기능</span></a> <div data-v-b3baf8e0=\"\"><a data-v-28e976b0=\"\" data-v-9c73c1ee=\"\" href=\"//board.namu.wiki/\" title=\"게시판\"><span class=\"DtWUceC4 ion-ios-clipboard\" data-v-28e976b0=\"\"></span> <span class=\"kyIwKKxO\" data-v-28e976b0=\"\">게시판</span></a> <div class=\"DXEIqg9V\" data-v-9c73c1ee=\"\" data-v-b3baf8e0=\"\"></div> <a data-v-28e976b0=\"\" data-v-9c73c1ee=\"\" href=\"/NeededPages\" title=\"작성이 필요한 문서\"><span class=\"DtWUceC4 ion-md-alert\" data-v-28e976b0=\"\"></span> <span class=\"kyIwKKxO\" data-v-28e976b0=\"\">작성이 필요한 문서</span></a> <a data-v-28e976b0=\"\" data-v-9c73c1ee=\"\" href=\"/OrphanedPages\" title=\"고립된 문서\"><span class=\"DtWUceC4 ion-ios-link\" data-v-28e976b0=\"\"></span> <span class=\"kyIwKKxO\" data-v-28e976b0=\"\">고립된 문서</span></a> <a data-v-28e976b0=\"\" data-v-9c73c1ee=\"\" href=\"/UncategorizedPages\" title=\"분류가 되지 않은 문서\"><span class=\"DtWUceC4 ion-md-help\" data-v-28e976b0=\"\"></span> <span class=\"kyIwKKxO\" data-v-28e976b0=\"\">분류가 되지 않은 문서</span></a> <a data-v-28e976b0=\"\" data-v-9c73c1ee=\"\" href=\"/OldPages\" title=\"편집된 지 오래된 문서\"><span class=\"DtWUceC4 ion-ios-pause\" data-v-28e976b0=\"\"></span> <span class=\"kyIwKKxO\" data-v-28e976b0=\"\">편집된 지 오래된 문서</span></a> <a data-v-28e976b0=\"\" data-v-9c73c1ee=\"\" href=\"/ShortestPages\" title=\"내용이 짧은 문서\"><span class=\"DtWUceC4 ion-md-create\" data-v-28e976b0=\"\"></span> <span class=\"kyIwKKxO\" data-v-28e976b0=\"\">내용이 짧은 문서</span></a> <a data-v-28e976b0=\"\" data-v-9c73c1ee=\"\" href=\"/LongestPages\" title=\"내용이 긴 문서\"><span class=\"DtWUceC4 ion-md-heart\" data-v-28e976b0=\"\"></span> <span class=\"kyIwKKxO\" data-v-28e976b0=\"\">내용이 긴 문서</span></a> <a data-v-28e976b0=\"\" data-v-9c73c1ee=\"\" href=\"/BlockHistory\" title=\"차단 내역\"><span class=\"DtWUceC4 ion-md-heart-dislike\" data-v-28e976b0=\"\"></span> <span class=\"kyIwKKxO\" data-v-28e976b0=\"\">차단 내역</span></a> <a data-v-28e976b0=\"\" data-v-9c73c1ee=\"\" href=\"/RandomPage\" title=\"RandomPage\"><span class=\"DtWUceC4 ion-ios-shuffle\" data-v-28e976b0=\"\"></span> <span class=\"kyIwKKxO\" data-v-28e976b0=\"\">RandomPage</span></a> <a data-v-28e976b0=\"\" data-v-9c73c1ee=\"\" href=\"/Upload\" title=\"파일 올리기\"><span class=\"DtWUceC4 ion-ios-cloud-upload\" data-v-28e976b0=\"\"></span> <span class=\"kyIwKKxO\" data-v-28e976b0=\"\">파일 올리기</span></a> <a data-v-28e976b0=\"\" data-v-9c73c1ee=\"\" href=\"/License\" title=\"라이선스\"><span class=\"DtWUceC4 ion-ios-pricetag\" data-v-28e976b0=\"\"></span> <span class=\"kyIwKKxO\" data-v-28e976b0=\"\">라이선스</span></a> <!-- --></div></li></ul> <ul class=\"wrlBy6AK\" data-v-9c73c1ee=\"\"><li data-v-4f2f7c46=\"\" data-v-9c73c1ee=\"\"><a data-v-4f2f7c46=\"\" href=\"#\" title=\"Member menu\"><span class=\"ion-ios-person\" data-v-4f2f7c46=\"\"></span></a> <div data-v-4f2f7c46=\"\"><div data-v-4f2f7c46=\"\" data-v-9c73c1ee=\"\" id=\"aNcigjmPq\"><div data-v-4f2f7c46=\"\" data-v-9c73c1ee=\"\">121.140.251.53</div> <div data-v-4f2f7c46=\"\" data-v-9c73c1ee=\"\">Please login!</div></div> <div class=\"DXEIqg9V\" data-v-4f2f7c46=\"\" data-v-9c73c1ee=\"\"></div> <a data-v-28e976b0=\"\" data-v-9c73c1ee=\"\" href=\"#\" title=\"설정\">설정</a> <!-- --> <div class=\"DXEIqg9V\" data-v-4f2f7c46=\"\" data-v-9c73c1ee=\"\"></div> <a data-v-28e976b0=\"\" data-v-9c73c1ee=\"\" href=\"/contribution/ip/121.140.251.53/document\" title=\"내 문서 기여 목록\">내 문서 기여 목록</a> <a data-v-28e976b0=\"\" data-v-9c73c1ee=\"\" href=\"/contribution/ip/121.140.251.53/discuss\" title=\"내 토론 기여 목록\">내 토론 기여 목록</a> <div class=\"DXEIqg9V\" data-v-4f2f7c46=\"\" data-v-9c73c1ee=\"\"></div> <a data-v-28e976b0=\"\" data-v-9c73c1ee=\"\" href=\"#\" title=\"로그인\">로그인</a></div></li></ul> <form data-v-50baa728=\"\" data-v-9c73c1ee=\"\"><div data-v-50baa728=\"\" id=\"D7btS6cLg\"><span class=\"_6ooF4VCY\" data-v-50baa728=\"\"><a data-v-50baa728=\"\" href=\"/random\"><span class=\"ion-ios-shuffle\" data-v-50baa728=\"\"></span></a></span> <div data-v-50baa728=\"\" id=\"yfUBcAtp4\"><input autocomplete=\"off\" data-v-50baa728=\"\" placeholder=\"Search\" tabindex=\"1\" type=\"search\" value=\"\"/> <!-- --></div> <span class=\"i54x47Y0\" data-v-50baa728=\"\"><button data-v-50baa728=\"\" type=\"button\"><span class=\"ion-ios-search\" data-v-50baa728=\"\"></span></button> <button data-v-50baa728=\"\" type=\"button\"><span class=\"ion-ios-arrow-round-forward\" data-v-50baa728=\"\"></span></button></span></div></form></nav> <!-- --></div> <div class=\"b3a5147f\" data-v-a9a8d948=\"\"><div class=\"b3a5147f\" data-v-a9a8d948=\"\"><div class=\"b3a5147f\" data-v-a9a8d948=\"\"><div class=\"b3a5147f\" data-v-a9a8d948=\"\"><div class=\"b3a5147f\" data-v-a9a8d948=\"\"><div class=\"b3a5147f\" data-v-a9a8d948=\"\"><div class=\"b3a5147f\" data-v-a9a8d948=\"\"><div class=\"CEySfubq\" data-v-a9a8d948=\"\"><article class=\"AK91gn6p\" data-v-013e3b72=\"\" data-v-a9a8d948=\"\"><!-- --> <!-- --> <div class=\"MQgEi28Y\" data-v-013e3b72=\"\" data-v-dc897e4a=\"\"><div class=\"TXLeEbCy\" data-v-dc897e4a=\"\"><!-- --> <!-- --> <a data-v-dc897e4a=\"\" href=\"/backlink/%EB%B6%84%EB%A5%98:%EC%A0%95%EC%88%98/w/%EB%B6%84%EB%A5%98:%EC%86%8C%EC%88%98(%EC%88%98%EB%A1%A0)\">역링크</a> <a data-v-dc897e4a=\"\" href=\"/discuss/%EB%B6%84%EB%A5%98:%EC%A0%95%EC%88%98/w/%EB%B6%84%EB%A5%98:%EC%86%8C%EC%88%98(%EC%88%98%EB%A1%A0)\">토론</a> <a data-v-dc897e4a=\"\" href=\"/edit/%EB%B6%84%EB%A5%98:%EC%A0%95%EC%88%98/w/%EB%B6%84%EB%A5%98:%EC%86%8C%EC%88%98(%EC%88%98%EB%A1%A0)\" rel=\"nofollow\">편집</a> <a data-v-dc897e4a=\"\" href=\"/history/%EB%B6%84%EB%A5%98:%EC%A0%95%EC%88%98/w/%EB%B6%84%EB%A5%98:%EC%86%8C%EC%88%98(%EC%88%98%EB%A1%A0)\">역사</a> <!-- --> <a data-v-dc897e4a=\"\" href=\"/acl/%EB%B6%84%EB%A5%98:%EC%A0%95%EC%88%98/w/%EB%B6%84%EB%A5%98:%EC%86%8C%EC%88%98(%EC%88%98%EB%A1%A0)\" rel=\"nofollow\">ACL</a> </div></div> <h1 data-v-013e3b72=\"\"><a data-v-013e3b72=\"\" href=\"/w/%EB%B6%84%EB%A5%98:%EC%A0%95%EC%88%98/w/%EB%B6%84%EB%A5%98:%EC%86%8C%EC%88%98(%EC%88%98%EB%A1%A0)\"><span data-v-013e3b72=\"\">분류:</span>정수/w/분류:소수(수론)</a> <!-- --></h1> <!-- --> <!-- --> <div data-v-013e3b72=\"\"></div><div data-v-013e3b72=\"\"></div><div data-v-013e3b72=\"\"></div> <div data-v-013e3b72=\"\"><div data-v-013e3b72=\"\"><div data-v-013e3b72=\"\"><div data-v-013e3b72=\"\"><div data-v-013e3b72=\"\"><div data-v-013e3b72=\"\"><!-- --> <!-- --> <div data-v-013e3b72=\"\"></div><div data-v-013e3b72=\"\"></div> <div data-v-013e3b72=\"\"><div data-v-9f6964b4=\"\" data-v-a9a8d948=\"\"><p data-v-9f6964b4=\"\">\n",
       "\t\t    해당 문서를 찾을 수 없습니다.\n",
       "\t    </p> <p data-v-9f6964b4=\"\"><a data-v-9f6964b4=\"\" href=\"/edit/%EB%B6%84%EB%A5%98:%EC%A0%95%EC%88%98/w/%EB%B6%84%EB%A5%98:%EC%86%8C%EC%88%98(%EC%88%98%EB%A1%A0)\" rel=\"nofollow\">[새 문서 만들기]</a></p> <!-- --></div></div> <div data-v-013e3b72=\"\"></div><div data-v-013e3b72=\"\"></div><div data-v-013e3b72=\"\"></div><div data-v-013e3b72=\"\"></div></div></div></div></div></div></div> <!-- --></article> <aside class=\"Uz1wuwlb\" data-v-7c75d25f=\"\" data-v-a9a8d948=\"\"><div class=\"a3bxGOB3\" data-v-0db7a2df=\"\" data-v-7c75d25f=\"\" id=\"YL2NF4KRH\"><h5 data-v-0db7a2df=\"\">최근 변경</h5> <div data-v-0db7a2df=\"\"><a data-v-0db7a2df=\"\"><span data-v-0db7a2df=\"\">00:00</span>갱신중...</a> <a data-v-0db7a2df=\"\"><span data-v-0db7a2df=\"\">00:00</span>갱신중...</a> <a data-v-0db7a2df=\"\"><span data-v-0db7a2df=\"\">00:00</span>갱신중...</a> <a data-v-0db7a2df=\"\"><span data-v-0db7a2df=\"\">00:00</span>갱신중...</a> <a data-v-0db7a2df=\"\"><span data-v-0db7a2df=\"\">00:00</span>갱신중...</a> <a data-v-0db7a2df=\"\"><span data-v-0db7a2df=\"\">00:00</span>갱신중...</a> <a data-v-0db7a2df=\"\"><span data-v-0db7a2df=\"\">00:00</span>갱신중...</a> <a data-v-0db7a2df=\"\"><span data-v-0db7a2df=\"\">00:00</span>갱신중...</a> <a data-v-0db7a2df=\"\"><span data-v-0db7a2df=\"\">00:00</span>갱신중...</a> <a data-v-0db7a2df=\"\"><span data-v-0db7a2df=\"\">00:00</span>갱신중...</a> <a data-v-0db7a2df=\"\"><span data-v-0db7a2df=\"\">00:00</span>갱신중...</a> <a data-v-0db7a2df=\"\"><span data-v-0db7a2df=\"\">00:00</span>갱신중...</a> <a data-v-0db7a2df=\"\"><span data-v-0db7a2df=\"\">00:00</span>갱신중...</a> <a data-v-0db7a2df=\"\"><span data-v-0db7a2df=\"\">00:00</span>갱신중...</a> <a data-v-0db7a2df=\"\"><span data-v-0db7a2df=\"\">00:00</span>갱신중...</a></div> <a data-v-0db7a2df=\"\" href=\"/RecentChanges\">[더 보기]</a></div><div class=\"JOysxoRw\" data-v-723cfd6a=\"\" data-v-7c75d25f=\"\" id=\"ubYXNNxzi\"><h5 data-v-723cfd6a=\"\">최근 변경</h5> <div data-v-723cfd6a=\"\"><a data-v-723cfd6a=\"\"><span data-v-723cfd6a=\"\">00:00</span>갱신중...</a> <a data-v-723cfd6a=\"\"><span data-v-723cfd6a=\"\">00:00</span>갱신중...</a> <a data-v-723cfd6a=\"\"><span data-v-723cfd6a=\"\">00:00</span>갱신중...</a> <a data-v-723cfd6a=\"\"><span data-v-723cfd6a=\"\">00:00</span>갱신중...</a> <a data-v-723cfd6a=\"\"><span data-v-723cfd6a=\"\">00:00</span>갱신중...</a> <a data-v-723cfd6a=\"\"><span data-v-723cfd6a=\"\">00:00</span>갱신중...</a> <a data-v-723cfd6a=\"\"><span data-v-723cfd6a=\"\">00:00</span>갱신중...</a> <a data-v-723cfd6a=\"\"><span data-v-723cfd6a=\"\">00:00</span>갱신중...</a> <a data-v-723cfd6a=\"\"><span data-v-723cfd6a=\"\">00:00</span>갱신중...</a> <a data-v-723cfd6a=\"\"><span data-v-723cfd6a=\"\">00:00</span>갱신중...</a> <a data-v-723cfd6a=\"\"><span data-v-723cfd6a=\"\">00:00</span>갱신중...</a> <a data-v-723cfd6a=\"\"><span data-v-723cfd6a=\"\">00:00</span>갱신중...</a> <a data-v-723cfd6a=\"\"><span data-v-723cfd6a=\"\">00:00</span>갱신중...</a> <a data-v-723cfd6a=\"\"><span data-v-723cfd6a=\"\">00:00</span>갱신중...</a> <a data-v-723cfd6a=\"\"><span data-v-723cfd6a=\"\">00:00</span>갱신중...</a> </div> <a data-v-723cfd6a=\"\" href=\"/RecentChanges\">[더 보기]</a></div><!-- --><div class=\"bIo6qjyE\" data-v-701b5a2e=\"\" data-v-7c75d25f=\"\"><div class=\"q1CS9izU\" data-v-701b5a2e=\"\">나무뉴스</div> <div class=\"P8LzQm3F\" data-v-701b5a2e=\"\"><a data-v-701b5a2e=\"\">갱신중...</a> <a data-v-701b5a2e=\"\">갱신중...</a> <a data-v-701b5a2e=\"\">갱신중...</a> <a data-v-701b5a2e=\"\">갱신중...</a> <a data-v-701b5a2e=\"\">갱신중...</a> </div> <a data-v-701b5a2e=\"\" href=\"https://namu.news/\" rel=\"noopener\" target=\"_blank\">[더 보기]</a></div><div class=\"a3bxGOB3\" data-v-4bd782db=\"\" data-v-7c75d25f=\"\" id=\"Ryoee7zSY\"><h5 data-v-4bd782db=\"\">최근 변경</h5> <div data-v-4bd782db=\"\"><a data-v-4bd782db=\"\"><span data-v-4bd782db=\"\">00:00</span>갱신중...</a> <a data-v-4bd782db=\"\"><span data-v-4bd782db=\"\">00:00</span>갱신중...</a> <a data-v-4bd782db=\"\"><span data-v-4bd782db=\"\">00:00</span>갱신중...</a> <a data-v-4bd782db=\"\"><span data-v-4bd782db=\"\">00:00</span>갱신중...</a> <a data-v-4bd782db=\"\"><span data-v-4bd782db=\"\">00:00</span>갱신중...</a> <a data-v-4bd782db=\"\"><span data-v-4bd782db=\"\">00:00</span>갱신중...</a> <a data-v-4bd782db=\"\"><span data-v-4bd782db=\"\">00:00</span>갱신중...</a> <a data-v-4bd782db=\"\"><span data-v-4bd782db=\"\">00:00</span>갱신중...</a> <a data-v-4bd782db=\"\"><span data-v-4bd782db=\"\">00:00</span>갱신중...</a> <a data-v-4bd782db=\"\"><span data-v-4bd782db=\"\">00:00</span>갱신중...</a> <a data-v-4bd782db=\"\"><span data-v-4bd782db=\"\">00:00</span>갱신중...</a> <a data-v-4bd782db=\"\"><span data-v-4bd782db=\"\">00:00</span>갱신중...</a> <a data-v-4bd782db=\"\"><span data-v-4bd782db=\"\">00:00</span>갱신중...</a> <a data-v-4bd782db=\"\"><span data-v-4bd782db=\"\">00:00</span>갱신중...</a> <a data-v-4bd782db=\"\"><span data-v-4bd782db=\"\">00:00</span>갱신중...</a></div> <a data-v-4bd782db=\"\" href=\"/RecentChanges\">[더 보기]</a></div><!-- --><div class=\"a3bxGOB3\" data-v-4580ca44=\"\" data-v-7c75d25f=\"\" id=\"A40xeAeUq\"><h5 data-v-4580ca44=\"\">최근 변경</h5> <div data-v-4580ca44=\"\"><a data-v-4580ca44=\"\"><span data-v-4580ca44=\"\">00:00</span>갱신중...</a> <a data-v-4580ca44=\"\"><span data-v-4580ca44=\"\">00:00</span>갱신중...</a> <a data-v-4580ca44=\"\"><span data-v-4580ca44=\"\">00:00</span>갱신중...</a> <a data-v-4580ca44=\"\"><span data-v-4580ca44=\"\">00:00</span>갱신중...</a> <a data-v-4580ca44=\"\"><span data-v-4580ca44=\"\">00:00</span>갱신중...</a> <a data-v-4580ca44=\"\"><span data-v-4580ca44=\"\">00:00</span>갱신중...</a> <a data-v-4580ca44=\"\"><span data-v-4580ca44=\"\">00:00</span>갱신중...</a> <a data-v-4580ca44=\"\"><span data-v-4580ca44=\"\">00:00</span>갱신중...</a> <a data-v-4580ca44=\"\"><span data-v-4580ca44=\"\">00:00</span>갱신중...</a> <a data-v-4580ca44=\"\"><span data-v-4580ca44=\"\">00:00</span>갱신중...</a> <a data-v-4580ca44=\"\"><span data-v-4580ca44=\"\">00:00</span>갱신중...</a> <a data-v-4580ca44=\"\"><span data-v-4580ca44=\"\">00:00</span>갱신중...</a> <a data-v-4580ca44=\"\"><span data-v-4580ca44=\"\">00:00</span>갱신중...</a> <a data-v-4580ca44=\"\"><span data-v-4580ca44=\"\">00:00</span>갱신중...</a> <a data-v-4580ca44=\"\"><span data-v-4580ca44=\"\">00:00</span>갱신중...</a></div> <a data-v-4580ca44=\"\" href=\"/RecentChanges\">[더 보기]</a></div><div class=\"a3bxGOB3\" data-v-7c75d25f=\"\" data-v-8b212a50=\"\" id=\"A4d9xPKh2\"><h5 data-v-8b212a50=\"\">최근 변경</h5> <div data-v-8b212a50=\"\"><a data-v-8b212a50=\"\"><span data-v-8b212a50=\"\">00:00</span>갱신중...</a> <a data-v-8b212a50=\"\"><span data-v-8b212a50=\"\">00:00</span>갱신중...</a> <a data-v-8b212a50=\"\"><span data-v-8b212a50=\"\">00:00</span>갱신중...</a> <a data-v-8b212a50=\"\"><span data-v-8b212a50=\"\">00:00</span>갱신중...</a> <a data-v-8b212a50=\"\"><span data-v-8b212a50=\"\">00:00</span>갱신중...</a> <a data-v-8b212a50=\"\"><span data-v-8b212a50=\"\">00:00</span>갱신중...</a> <a data-v-8b212a50=\"\"><span data-v-8b212a50=\"\">00:00</span>갱신중...</a> <a data-v-8b212a50=\"\"><span data-v-8b212a50=\"\">00:00</span>갱신중...</a> <a data-v-8b212a50=\"\"><span data-v-8b212a50=\"\">00:00</span>갱신중...</a> <a data-v-8b212a50=\"\"><span data-v-8b212a50=\"\">00:00</span>갱신중...</a> <a data-v-8b212a50=\"\"><span data-v-8b212a50=\"\">00:00</span>갱신중...</a> <a data-v-8b212a50=\"\"><span data-v-8b212a50=\"\">00:00</span>갱신중...</a> <a data-v-8b212a50=\"\"><span data-v-8b212a50=\"\">00:00</span>갱신중...</a> <a data-v-8b212a50=\"\"><span data-v-8b212a50=\"\">00:00</span>갱신중...</a> <a data-v-8b212a50=\"\"><span data-v-8b212a50=\"\">00:00</span>갱신중...</a></div> <a data-v-8b212a50=\"\" href=\"/RecentChanges\">[더 보기]</a></div></aside></div></div></div></div></div></div></div></div> <div data-v-3e64408a=\"\" data-v-a9a8d948=\"\"><div data-v-3e64408a=\"\" data-v-503d6149=\"\" id=\"CjCw0ZRQn\"><h5 data-v-503d6149=\"\">최근 변경</h5> <ul data-v-503d6149=\"\"><a data-v-503d6149=\"\"><span data-v-503d6149=\"\">00:00</span>갱신중...</a> <a data-v-503d6149=\"\"><span data-v-503d6149=\"\">00:00</span>갱신중...</a> <a data-v-503d6149=\"\"><span data-v-503d6149=\"\">00:00</span>갱신중...</a> <a data-v-503d6149=\"\"><span data-v-503d6149=\"\">00:00</span>갱신중...</a> <a data-v-503d6149=\"\"><span data-v-503d6149=\"\">00:00</span>갱신중...</a> </ul> <a data-v-503d6149=\"\" href=\"/RecentChanges\">[더 보기]</a></div> <div data-v-36e00563=\"\" data-v-3e64408a=\"\"><h5 data-v-36e00563=\"\">나무뉴스</h5> <ul data-v-36e00563=\"\"><li data-v-36e00563=\"\">갱신중...</li> <li data-v-36e00563=\"\">갱신중...</li> <li data-v-36e00563=\"\">갱신중...</li> <li data-v-36e00563=\"\">갱신중...</li> <li data-v-36e00563=\"\">갱신중...</li> <li data-v-36e00563=\"\">갱신중...</li> <li data-v-36e00563=\"\">갱신중...</li> <li data-v-36e00563=\"\">갱신중...</li> <li data-v-36e00563=\"\">갱신중...</li> <li data-v-36e00563=\"\">갱신중...</li> </ul> <a data-v-36e00563=\"\" href=\"https://namu.news/\" rel=\"noopener\" target=\"_blank\">[더 보기]</a></div> <footer data-v-3e64408a=\"\"><ul data-v-3e64408a=\"\"><li data-v-3e64408a=\"\"><a data-v-3e64408a=\"\" href=\"https://play.google.com/store/apps/details?id=net.umanle.namuwiki\" rel=\"noopener\" target=\"_blank\"><img alt=\"Play Store\" data-v-3e64408a=\"\" src=\"data:image/svg+xml;base64,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\"/></a></li> <li data-v-3e64408a=\"\"><a data-v-3e64408a=\"\" href=\"https://apps.apple.com/kr/app/id1623510780\" rel=\"noopener\" target=\"_blank\"><img alt=\"App Store\" data-v-3e64408a=\"\" src=\"data:image/svg+xml;base64,PHN2ZyB4bWxucz0iaHR0cDovL3d3dy53My5vcmcvMjAwMC9zdmciIHhtbG5zOnhsaW5rPSJodHRwOi8vd3d3LnczLm9yZy8xOTk5L3hsaW5rIiB2aWV3Qm94PSIwIDAgODAwLjEgODAwIj48ZGVmcz48bGluZWFyR3JhZGllbnQgaWQ9ImxpbmVhci1ncmFkaWVudCIgeDE9IjE1Ny42ODgiIHkxPSI1ODIuMTczIiB4Mj0iMTU3LjY4OCIgeTI9IjEzODIuMTczIiBncmFkaWVudFRyYW5zZm9ybT0idHJhbnNsYXRlKDI0Mi4zNjIgLTU4Mi4xNzMpIiBncmFkaWVudFVuaXRzPSJ1c2VyU3BhY2VPblVzZSI+PHN0b3Agb2Zmc2V0PSIwIiBzdG9wLWNvbG9yPSIjMThiZmZiIj48L3N0b3A+PHN0b3Agb2Zmc2V0PSIxIiBzdG9wLWNvbG9yPSIjMjA3MmYzIj48L3N0b3A+PC9saW5lYXJHcmFkaWVudD48L2RlZnM+PGcgaWQ9IkxheWVyXzIiPjxnIGlkPSJMYXllcl8xLTIiPjxwYXRoIGQ9Ik02MzguNCwwSDE2MS42QTE2MS41MzUsMTYxLjUzNSwwLDAsMCwwLDE2MS42VjYzOC41QTE2MS41MTQsMTYxLjUxNCwwLDAsMCwxNjEuNiw4MDBINjM4LjVBMTYxLjYsMTYxLjYsMCwwLDAsODAwLjEsNjM4LjRWMTYxLjZBMTYxLjY4NCwxNjEuNjg0LDAsMCwwLDYzOC40LDBaIiBzdHlsZT0iZmlsbDp1cmwoI2xpbmVhci1ncmFkaWVudCkiPjwvcGF0aD48cGF0aCBkPSJNMzk2LjYsMTgzLjhsMTYuMi0yOEEzNi40NjYsMzYuNDY2LDAsMSwxLDQ3NiwxOTIuMkwzMTkuOSw0NjIuNEg0MzIuOGMzNi42LDAsNTcuMSw0Myw0MS4yLDcyLjhIMTQzYTM2LjQsMzYuNCwwLDEsMSwwLTcyLjhoOTIuOEwzNTQuNiwyNTYuNWwtMzcuMS02NC40YTM2LjQ2NiwzNi40NjYsMCwwLDEsNjMuMi0zNi40bDE1LjksMjguMVpNMjU2LjIsNTcyLjdsLTM1LDYwLjdBMzYuNDY2LDM2LjQ2NiwwLDAsMSwxNTgsNTk3bDI2LTQ1YzI5LjQtOS4xLDUzLjMtMi4xLDcyLjIsMjAuN1pNNTU3LjYsNDYyLjZoOTQuN2EzNi40LDM2LjQsMCwxLDEsMCw3Mi44SDU5OS43TDYzNS4yLDU5N0EzNi40NjYsMzYuNDY2LDAsMCwxLDU3Miw2MzMuNHEtODkuNy0xNTUuNTUtMTM0LjUtMjMzQzQwNywzNDcuOCw0MjguOCwyOTUsNDUwLjMsMjc3LjFxMzUuODUsNjEuNSwxMDcuMywxODUuNVoiIHN0eWxlPSJmaWxsOiNmZmYiPjwvcGF0aD48L2c+PC9nPjwvc3ZnPgo=\"/></a></li></ul> <p data-v-3e64408a=\"\">namu.wiki<span class=\"GG1rJcM0\" data-v-3e64408a=\"\"></span><a data-v-3e64408a=\"\" href=\"mailto:support@namu.wiki\">Contáctenos</a><span class=\"GG1rJcM0\" data-v-3e64408a=\"\"></span><a data-v-3e64408a=\"\" href=\"/Policy\">Términos de uso</a><span class=\"GG1rJcM0\" data-v-3e64408a=\"\"></span>Operado por umanle S.R.L.<span class=\"GG1rJcM0\" data-v-3e64408a=\"\"></span>Hecho con &lt;3 en Asunción, República del Paraguay</p> <p data-v-3e64408a=\"\">Su zona horaria es <span data-v-3e64408a=\"\">GMT</span><span class=\"GG1rJcM0\" data-v-3e64408a=\"\"></span>Impulsado por <i data-v-3e64408a=\"\">the seed engine</i></p> <p class=\"bjzDDKXI\" data-v-3e64408a=\"\">This site is protected by reCAPTCHA and the Google <a data-v-3e64408a=\"\" href=\"https://policies.google.com/privacy\" rel=\"nofollow noopener\" target=\"_blank\">Privacy Policy</a> and <a data-v-3e64408a=\"\" href=\"https://policies.google.com/terms\" rel=\"nofollow noopener\" target=\"_blank\">Terms of Service</a> apply.<br data-v-3e64408a=\"\"/>This site is protected by hCaptcha and its <a data-v-3e64408a=\"\" href=\"https://hcaptcha.com/privacy\" rel=\"nofollow noopener\" target=\"_blank\">Privacy Policy</a> and <a data-v-3e64408a=\"\" href=\"https://hcaptcha.com/terms\" rel=\"nofollow noopener\" target=\"_blank\">Terms of Service</a> apply.</p></footer></div> <!-- --> <ul data-v-82527b26=\"\" data-v-a9a8d948=\"\"><li data-v-82527b26=\"\"><a data-v-82527b26=\"\" href=\"#\"><span class=\"ion-ios-cog\" data-v-82527b26=\"\"></span></a></li> <li data-v-82527b26=\"\"><a data-v-82527b26=\"\" href=\"#\"><span class=\"ion-ios-arrow-up\" data-v-82527b26=\"\"></span></a></li> <li data-v-82527b26=\"\"><a data-v-82527b26=\"\" href=\"#\"><span class=\"ion-ios-arrow-down\" data-v-82527b26=\"\"></span></a></li></ul> <!-- --></div><!-- --><!-- --></div><script>window.INITIAL_STATE={\"config\":{\"wiki.editagree_text\":\"문서 편집을 \\u003Cstrong\\u003E저장\\u003C/strong\\u003E하면 당신은 기여한 내용을 \\u003Cstrong\\u003ECC-BY-NC-SA 2.0 KR\\u003C/strong\\u003E으로 배포하고 기여한 문서에 대한 하이퍼링크나 URL을 이용하여 저작자 표시를 하는 것으로 충분하다는 데 동의하는 것입니다. 이 \\u003Cstrong\\u003E동의는 철회할 수 없습니다.\\u003C/strong\\u003E\",\"wiki.front_page\":\"나무위키:대문\",\"wiki.site_name\":\"나무위키\",\"wiki.copyright_url\":\"//creativecommons.org/licenses/by-nc-sa/2.0/kr/\",\"wiki.canonical_url\":\"https://namu.wiki\",\"wiki.copyright_text\":\"\\u003Cimg alt=\\\"크리에이티브 커먼즈 라이선스\\\" style=\\\"border-width: 0;\\\" src=\\\"/img/cc-by-nc-sa-2.0-88x31.png\\\" width=\\\"88\\\" height=\\\"31\\\"\\u003E\\u003Cbr\\u003E이 저작물은 \\u003Ca rel=\\\"license\\\" href=\\\"//creativecommons.org/licenses/by-nc-sa/2.0/kr/\\\" target=\\\"_blank\\\" rel=\\\"nofollow noopener\\\" \\u003ECC BY-NC-SA 2.0 KR\\u003C/a\\u003E에 따라 이용할 수 있습니다. (단, 라이선스가 명시된 일부 문서 및 삽화 제외)\\u003Cbr\\u003E기여하신 문서의 저작권은 각 기여자에게 있으며, 각 기여자는 기여하신 부분의 저작권을 갖습니다.\\u003Cbr\\u003E\\u003Cbr\\u003E나무위키는 백과사전이 아니며 검증되지 않았거나, 편향적이거나, 잘못된 서술이 있을 수 있습니다.\\u003Cbr\\u003E나무위키는 위키위키입니다. 여러분이 직접 문서를 고칠 수 있으며, 다른 사람의 의견을 원할 경우 직접 토론을 발제할 수 있습니다.\",\"wiki.logo_url\":\"/img/icon.png\"},\"localConfig\":{},\"_544e3803\":{\"_3b368bc6\":\"분류:정수/w/분류:소수(수론)\",\"_37ffd399\":9166500,\"_ca396fa1\":{\"_0c7d60e2\":{\"_72936ec5\":\"분류\",\"_3b368bc6\":\"정수/w/분류:소수(수론)\",\"_bf8890fa\":null},\"_292f2df4\":[],\"_72b751a4\":null,\"_a961f8f8\":false,\"_bd7ed589\":{}},\"_ddd28064\":{\"sa\":\"603647186\",\"sb\":\"3803407167\",\"sc\":\"1344848477\",\"sd\":\"3463099009\"},\"_6553917c\":[]},\"_e4dbf395\":{\"_68e50004\":null,\"_d714d1f6\":\"121.140.251.53\",\"_a48aeca6\":\"i:121.140.251.53\",\"_6553917c\":[]},\"_556ef4b9\":{},\"_46a86a8d\":\"92be76b014bc8353e135b52843a7ac02\",\"_2497f075\":\"436b434cc864b3fcf022f2a25ed9c370\",\"page\":{\"viewName\":\"notfound\",\"data\":{\"document\":{\"_72936ec5\":\"분류\",\"_3b368bc6\":\"정수/w/분류:소수(수론)\",\"_bf8890fa\":null,\"namespace\":\"분류\",\"title\":\"정수/w/분류:소수(수론)\",\"forceShowNamespace\":null},\"discuss_progress\":false,\"user\":false},\"title\":\"분류:정수/w/분류:소수(수론)\",\"menus\":[]},\"session\":{\"menus\":[],\"member\":null,\"ip\":\"121.140.251.53\"}}</script><script defer=\"\" src=\"/skins/senkawa/manifest.ed4423bfd2d99245735a.js\"></script><script defer=\"\" src=\"/skins/senkawa/7.476bc85b8160d2b1ce9d.js\"></script><script defer=\"\" src=\"/skins/senkawa/vendor.069482f2d172c6ff4410.js\"></script><script defer=\"\" src=\"/skins/senkawa/main.6ca3f4146d57e5f465f0.js\"></script><script>(function(){var js = \"window['__CF$cv$params']={r:'846bba8078a1a7bd',t:'MTcwNTQ2NDQxNy40MTYwMDA='};_cpo=document.createElement('script');_cpo.nonce='',_cpo.src='/cdn-cgi/challenge-platform/scripts/jsd/main.js',document.getElementsByTagName('head')[0].appendChild(_cpo);\";var _0xh = document.createElement('iframe');_0xh.height = 1;_0xh.width = 1;_0xh.style.position = 'absolute';_0xh.style.top = 0;_0xh.style.left = 0;_0xh.style.border = 'none';_0xh.style.visibility = 'hidden';document.body.appendChild(_0xh);function handler() {var _0xi = _0xh.contentDocument || _0xh.contentWindow.document;if (_0xi) {var _0xj = _0xi.createElement('script');_0xj.innerHTML = js;_0xi.getElementsByTagName('head')[0].appendChild(_0xj);}}if (document.readyState !== 'loading') {handler();} else if (window.addEventListener) {document.addEventListener('DOMContentLoaded', handler);} else {var prev = document.onreadystatechange || function () {};document.onreadystatechange = function (e) {prev(e);if (document.readyState !== 'loading') {document.onreadystatechange = prev;handler();}};}})();</script></body></html>"
      ]
     },
     "execution_count": 15,
     "metadata": {},
     "output_type": "execute_result"
    }
   ],
   "source": [
    "result[6]"
   ]
  },
  {
   "cell_type": "markdown",
   "id": "8548e15e-fedc-4061-b5c1-6e70bd97a721",
   "metadata": {
    "jp-MarkdownHeadingCollapsed": true
   },
   "source": [
    "### a-2. 예제 : 멀티스레딩"
   ]
  },
  {
   "cell_type": "markdown",
   "id": "5583fd68-5b40-44bc-8a31-a5323ad2452c",
   "metadata": {},
   "source": [
    "#### a-2-1. 함수 정의"
   ]
  },
  {
   "cell_type": "code",
   "execution_count": 4,
   "id": "dfbb8557-111e-44e9-92fb-d727f22694b0",
   "metadata": {},
   "outputs": [],
   "source": [
    "def do_thread_crawl(urls: list):\n",
    "    thread_list = []\n",
    "    result = []  # soup의 리스트\n",
    "    # 스레드 풀 생성\n",
    "    with ThreadPoolExecutor(max_workers=8) as executor:\n",
    "        print(\"a\")\n",
    "\n",
    "        # 스레드 작업 제출\n",
    "        for url in urls:\n",
    "            thread_list.append(executor.submit(do_html_crawl, url))\n",
    "            \n",
    "        print(\"b\")\n",
    "\n",
    "        # 작업 완료 대기\n",
    "        for execution in concurrent.futures.as_completed(thread_list):  # 이 루프는 제출된 모든 스레드 작업이 완료될 때까지 대기한다\n",
    "            result.append(execution.result())  # 각 스레드 작업의 결과를 기다리고, 해당 작업이 완료되면 결과를 반환한다\n",
    "            \n",
    "        print(\"c\")\n",
    "        \n",
    "    return result"
   ]
  },
  {
   "cell_type": "markdown",
   "id": "d8f48227-235e-4ba2-9d66-14d77f305b94",
   "metadata": {},
   "source": [
    "#### a-2-2. 실행\n",
    "- 29.475초(113.494초 -> 29.475초, 시간 74.03% 단축)\n",
    "- 데이터 수집 성공적"
   ]
  },
  {
   "cell_type": "code",
   "execution_count": 5,
   "id": "593cc072-350e-4ac7-878b-67e046c9bc89",
   "metadata": {},
   "outputs": [
    {
     "name": "stdout",
     "output_type": "stream",
     "text": [
      "Number of site:  20\n",
      "a\n",
      "b\n",
      "c\n",
      "Number of site:  20\n",
      "a\n",
      "b\n",
      "c\n",
      "Number of site:  20\n",
      "a\n",
      "b\n",
      "c\n",
      "Number of site:  17\n",
      "a\n",
      "b\n",
      "c\n",
      "--- elapsed time 30.35339879989624 seconds ---\n",
      "len(result_2) : 77\n",
      "type(result_2) : <class 'list'>\n",
      "type(result_2[0]) : <class 'bs4.BeautifulSoup'>\n",
      "result_2[6] : <!DOCTYPE html>\n",
      "\n",
      "<html data-n-head-ssr=\"\"><head><title>분류:정수/w/분류:다각수 - 나무위키</title><meta charset=\"utf-8\" data-n-head=\"ssr\"/><meta content=\"user-scalable=no, initial-scale=1.0, maximum-scale=5.0, minimum-scale=1.0, width=device-width\" data-n-head=\"ssr\" name=\"viewport\"/><meta content=\"ie=edge\" data-n-head=\"ssr\" http-equv=\"x-ua-compatible\"/><meta content=\"the seed\" data-n-head=\"ssr\" name=\"generator\"/><meta content=\"yes\" data-n-head=\"ssr\" name=\"mobile-web-app-capable\"/><meta content=\"나무위키\" data-n-head=\"ssr\" name=\"application-name\"/><meta content=\"나무위키\" data-n-head=\"ssr\" name=\"msapplication-tooltip\"/><meta content=\"/w/%EB%82%98%EB%AC%B4%EC%9C%84%ED%82%A4:%EB%8C%80%EB%AC%B8\" data-n-head=\"ssr\" name=\"msapplication-starturl\"/><meta content=\"#008275\" data-n-head=\"ssr\" name=\"theme-color\"/><meta content=\"noarchive\" data-n-head=\"ssr\" name=\"googlebot\"/><link data-n-head=\"ssr\" href=\"https://namu.wiki/w/%EB%B6%84%EB%A5%98:%EC%A0%95%EC%88%98/w/%EB%B6%84%EB%A5%98:%EB%8B%A4%EA%B0%81%EC%88%98\" rel=\"canonical\"/><link data-n-head=\"ssr\" href=\"/opensearch.xml\" rel=\"search\" title=\"나무위키\" type=\"application/opensearchdescription+xml\"/><link data-n-head=\"ssr\" href=\"/favicon.svg\" rel=\"icon\" sizes=\"any\" type=\"image/svg+xml\"/><link data-n-head=\"ssr\" href=\"/favicon-32.png\" rel=\"icon\" sizes=\"32x32\" type=\"image/png\"/><link data-n-head=\"ssr\" href=\"/favicon-192.png\" rel=\"icon\" sizes=\"192x192\" type=\"image/png\"/><link data-n-head=\"ssr\" href=\"/img/apple_icon.png\" rel=\"apple-touch-icon\"/><script async=\"\" data-n-head=\"ssr\" src=\"https://securepubads.g.doubleclick.net/tag/js/gpt.js\"></script><link as=\"script\" href=\"/skins/senkawa/manifest.ed4423bfd2d99245735a.js\" rel=\"preload\"/><link as=\"script\" href=\"/skins/senkawa/vendor.069482f2d172c6ff4410.js\" rel=\"preload\"/><link as=\"style\" href=\"/skins/senkawa/156.0422d50ae31e17173674.css\" rel=\"preload\"/><link as=\"style\" href=\"/skins/senkawa/main.6ca3f4146d57e5f465f0.css\" rel=\"preload\"/><link as=\"script\" href=\"/skins/senkawa/main.6ca3f4146d57e5f465f0.js\" rel=\"preload\"/><link as=\"style\" href=\"/skins/senkawa/7.476bc85b8160d2b1ce9d.css\" rel=\"preload\"/><link as=\"script\" href=\"/skins/senkawa/7.476bc85b8160d2b1ce9d.js\" rel=\"preload\"/><link href=\"/skins/senkawa/156.0422d50ae31e17173674.css\" rel=\"stylesheet\"/><link href=\"/skins/senkawa/main.6ca3f4146d57e5f465f0.css\" rel=\"stylesheet\"/><link href=\"/skins/senkawa/7.476bc85b8160d2b1ce9d.css\" rel=\"stylesheet\"/></head><body><div data-server-rendered=\"true\" id=\"app\"><!-- --><div class=\"app senkawa-fixed-size senkawa-fixed-1300\" data-v-a9a8d948=\"\" id=\"dQejgkAm5\"><div class=\"CE7R1skQ\" data-v-9c73c1ee=\"\" data-v-a9a8d948=\"\"><nav class=\"g88F3I5y\" data-v-9c73c1ee=\"\"><a class=\"_0wl1wqJm\" data-v-9c73c1ee=\"\" href=\"/\"></a> <ul data-v-9c73c1ee=\"\"><li data-v-6678db84=\"\" data-v-9c73c1ee=\"\"><a data-v-6678db84=\"\" href=\"/RecentChanges\" title=\"최근 변경\"><span class=\"n2MLAa5S ion-md-compass\" data-v-6678db84=\"\"></span> <span class=\"Ok1SND3e\" data-v-6678db84=\"\">최근 변경</span></a></li> <li data-v-6678db84=\"\" data-v-9c73c1ee=\"\"><a data-v-6678db84=\"\" href=\"/RecentDiscuss\" title=\"최근 토론\"><span class=\"n2MLAa5S ion-md-text\" data-v-6678db84=\"\"></span> <span class=\"Ok1SND3e\" data-v-6678db84=\"\">최근 토론</span></a></li> <li data-v-9c73c1ee=\"\" data-v-b3baf8e0=\"\"><a data-v-b3baf8e0=\"\" href=\"#\" title=\"특수 기능\"><span class=\"ohCiCr-0 ion-ios-cube\" data-v-b3baf8e0=\"\"></span> <span class=\"qrzNtUJg\" data-v-b3baf8e0=\"\">특수 기능</span></a> <div data-v-b3baf8e0=\"\"><a data-v-28e976b0=\"\" data-v-9c73c1ee=\"\" href=\"//board.namu.wiki/\" title=\"게시판\"><span class=\"DtWUceC4 ion-ios-clipboard\" data-v-28e976b0=\"\"></span> <span class=\"kyIwKKxO\" data-v-28e976b0=\"\">게시판</span></a> <div class=\"DXEIqg9V\" data-v-9c73c1ee=\"\" data-v-b3baf8e0=\"\"></div> <a data-v-28e976b0=\"\" data-v-9c73c1ee=\"\" href=\"/NeededPages\" title=\"작성이 필요한 문서\"><span class=\"DtWUceC4 ion-md-alert\" data-v-28e976b0=\"\"></span> <span class=\"kyIwKKxO\" data-v-28e976b0=\"\">작성이 필요한 문서</span></a> <a data-v-28e976b0=\"\" data-v-9c73c1ee=\"\" href=\"/OrphanedPages\" title=\"고립된 문서\"><span class=\"DtWUceC4 ion-ios-link\" data-v-28e976b0=\"\"></span> <span class=\"kyIwKKxO\" data-v-28e976b0=\"\">고립된 문서</span></a> <a data-v-28e976b0=\"\" data-v-9c73c1ee=\"\" href=\"/UncategorizedPages\" title=\"분류가 되지 않은 문서\"><span class=\"DtWUceC4 ion-md-help\" data-v-28e976b0=\"\"></span> <span class=\"kyIwKKxO\" data-v-28e976b0=\"\">분류가 되지 않은 문서</span></a> <a data-v-28e976b0=\"\" data-v-9c73c1ee=\"\" href=\"/OldPages\" title=\"편집된 지 오래된 문서\"><span class=\"DtWUceC4 ion-ios-pause\" data-v-28e976b0=\"\"></span> <span class=\"kyIwKKxO\" data-v-28e976b0=\"\">편집된 지 오래된 문서</span></a> <a data-v-28e976b0=\"\" data-v-9c73c1ee=\"\" href=\"/ShortestPages\" title=\"내용이 짧은 문서\"><span class=\"DtWUceC4 ion-md-create\" data-v-28e976b0=\"\"></span> <span class=\"kyIwKKxO\" data-v-28e976b0=\"\">내용이 짧은 문서</span></a> <a data-v-28e976b0=\"\" data-v-9c73c1ee=\"\" href=\"/LongestPages\" title=\"내용이 긴 문서\"><span class=\"DtWUceC4 ion-md-heart\" data-v-28e976b0=\"\"></span> <span class=\"kyIwKKxO\" data-v-28e976b0=\"\">내용이 긴 문서</span></a> <a data-v-28e976b0=\"\" data-v-9c73c1ee=\"\" href=\"/BlockHistory\" title=\"차단 내역\"><span class=\"DtWUceC4 ion-md-heart-dislike\" data-v-28e976b0=\"\"></span> <span class=\"kyIwKKxO\" data-v-28e976b0=\"\">차단 내역</span></a> <a data-v-28e976b0=\"\" data-v-9c73c1ee=\"\" href=\"/RandomPage\" title=\"RandomPage\"><span class=\"DtWUceC4 ion-ios-shuffle\" data-v-28e976b0=\"\"></span> <span class=\"kyIwKKxO\" data-v-28e976b0=\"\">RandomPage</span></a> <a data-v-28e976b0=\"\" data-v-9c73c1ee=\"\" href=\"/Upload\" title=\"파일 올리기\"><span class=\"DtWUceC4 ion-ios-cloud-upload\" data-v-28e976b0=\"\"></span> <span class=\"kyIwKKxO\" data-v-28e976b0=\"\">파일 올리기</span></a> <a data-v-28e976b0=\"\" data-v-9c73c1ee=\"\" href=\"/License\" title=\"라이선스\"><span class=\"DtWUceC4 ion-ios-pricetag\" data-v-28e976b0=\"\"></span> <span class=\"kyIwKKxO\" data-v-28e976b0=\"\">라이선스</span></a> <!-- --></div></li></ul> <ul class=\"wrlBy6AK\" data-v-9c73c1ee=\"\"><li data-v-4f2f7c46=\"\" data-v-9c73c1ee=\"\"><a data-v-4f2f7c46=\"\" href=\"#\" title=\"Member menu\"><span class=\"ion-ios-person\" data-v-4f2f7c46=\"\"></span></a> <div data-v-4f2f7c46=\"\"><div data-v-4f2f7c46=\"\" data-v-9c73c1ee=\"\" id=\"aNcigjmPq\"><div data-v-4f2f7c46=\"\" data-v-9c73c1ee=\"\">121.140.251.53</div> <div data-v-4f2f7c46=\"\" data-v-9c73c1ee=\"\">Please login!</div></div> <div class=\"DXEIqg9V\" data-v-4f2f7c46=\"\" data-v-9c73c1ee=\"\"></div> <a data-v-28e976b0=\"\" data-v-9c73c1ee=\"\" href=\"#\" title=\"설정\">설정</a> <!-- --> <div class=\"DXEIqg9V\" data-v-4f2f7c46=\"\" data-v-9c73c1ee=\"\"></div> <a data-v-28e976b0=\"\" data-v-9c73c1ee=\"\" href=\"/contribution/ip/121.140.251.53/document\" title=\"내 문서 기여 목록\">내 문서 기여 목록</a> <a data-v-28e976b0=\"\" data-v-9c73c1ee=\"\" href=\"/contribution/ip/121.140.251.53/discuss\" title=\"내 토론 기여 목록\">내 토론 기여 목록</a> <div class=\"DXEIqg9V\" data-v-4f2f7c46=\"\" data-v-9c73c1ee=\"\"></div> <a data-v-28e976b0=\"\" data-v-9c73c1ee=\"\" href=\"#\" title=\"로그인\">로그인</a></div></li></ul> <form data-v-50baa728=\"\" data-v-9c73c1ee=\"\"><div data-v-50baa728=\"\" id=\"D7btS6cLg\"><span class=\"_6ooF4VCY\" data-v-50baa728=\"\"><a data-v-50baa728=\"\" href=\"/random\"><span class=\"ion-ios-shuffle\" data-v-50baa728=\"\"></span></a></span> <div data-v-50baa728=\"\" id=\"yfUBcAtp4\"><input autocomplete=\"off\" data-v-50baa728=\"\" placeholder=\"Search\" tabindex=\"1\" type=\"search\" value=\"\"/> <!-- --></div> <span class=\"i54x47Y0\" data-v-50baa728=\"\"><button data-v-50baa728=\"\" type=\"button\"><span class=\"ion-ios-search\" data-v-50baa728=\"\"></span></button> <button data-v-50baa728=\"\" type=\"button\"><span class=\"ion-ios-arrow-round-forward\" data-v-50baa728=\"\"></span></button></span></div></form></nav> <!-- --></div> <div class=\"b3a5147f\" data-v-a9a8d948=\"\"><div class=\"b3a5147f\" data-v-a9a8d948=\"\"><div class=\"b3a5147f\" data-v-a9a8d948=\"\"><div class=\"b3a5147f\" data-v-a9a8d948=\"\"><div class=\"b3a5147f\" data-v-a9a8d948=\"\"><div class=\"b3a5147f\" data-v-a9a8d948=\"\"><div class=\"b3a5147f\" data-v-a9a8d948=\"\"><div class=\"CEySfubq\" data-v-a9a8d948=\"\"><article class=\"AK91gn6p\" data-v-013e3b72=\"\" data-v-a9a8d948=\"\"><!-- --> <!-- --> <div class=\"MQgEi28Y\" data-v-013e3b72=\"\" data-v-dc897e4a=\"\"><div class=\"TXLeEbCy\" data-v-dc897e4a=\"\"><!-- --> <!-- --> <a data-v-dc897e4a=\"\" href=\"/backlink/%EB%B6%84%EB%A5%98:%EC%A0%95%EC%88%98/w/%EB%B6%84%EB%A5%98:%EB%8B%A4%EA%B0%81%EC%88%98\">역링크</a> <a data-v-dc897e4a=\"\" href=\"/discuss/%EB%B6%84%EB%A5%98:%EC%A0%95%EC%88%98/w/%EB%B6%84%EB%A5%98:%EB%8B%A4%EA%B0%81%EC%88%98\">토론</a> <a data-v-dc897e4a=\"\" href=\"/edit/%EB%B6%84%EB%A5%98:%EC%A0%95%EC%88%98/w/%EB%B6%84%EB%A5%98:%EB%8B%A4%EA%B0%81%EC%88%98\" rel=\"nofollow\">편집</a> <a data-v-dc897e4a=\"\" href=\"/history/%EB%B6%84%EB%A5%98:%EC%A0%95%EC%88%98/w/%EB%B6%84%EB%A5%98:%EB%8B%A4%EA%B0%81%EC%88%98\">역사</a> <!-- --> <a data-v-dc897e4a=\"\" href=\"/acl/%EB%B6%84%EB%A5%98:%EC%A0%95%EC%88%98/w/%EB%B6%84%EB%A5%98:%EB%8B%A4%EA%B0%81%EC%88%98\" rel=\"nofollow\">ACL</a> </div></div> <h1 data-v-013e3b72=\"\"><a data-v-013e3b72=\"\" href=\"/w/%EB%B6%84%EB%A5%98:%EC%A0%95%EC%88%98/w/%EB%B6%84%EB%A5%98:%EB%8B%A4%EA%B0%81%EC%88%98\"><span data-v-013e3b72=\"\">분류:</span>정수/w/분류:다각수</a> <!-- --></h1> <!-- --> <!-- --> <div data-v-013e3b72=\"\"></div><div data-v-013e3b72=\"\"></div><div data-v-013e3b72=\"\"></div> <div data-v-013e3b72=\"\"><div data-v-013e3b72=\"\"><div data-v-013e3b72=\"\"><div data-v-013e3b72=\"\"><div data-v-013e3b72=\"\"><div data-v-013e3b72=\"\"><!-- --> <!-- --> <div data-v-013e3b72=\"\"></div><div data-v-013e3b72=\"\"></div> <div data-v-013e3b72=\"\"><div data-v-9f6964b4=\"\" data-v-a9a8d948=\"\"><p data-v-9f6964b4=\"\">\n",
      "\t\t    해당 문서를 찾을 수 없습니다.\n",
      "\t    </p> <p data-v-9f6964b4=\"\"><a data-v-9f6964b4=\"\" href=\"/edit/%EB%B6%84%EB%A5%98:%EC%A0%95%EC%88%98/w/%EB%B6%84%EB%A5%98:%EB%8B%A4%EA%B0%81%EC%88%98\" rel=\"nofollow\">[새 문서 만들기]</a></p> <!-- --></div></div> <div data-v-013e3b72=\"\"></div><div data-v-013e3b72=\"\"></div><div data-v-013e3b72=\"\"></div><div data-v-013e3b72=\"\"></div></div></div></div></div></div></div> <!-- --></article> <aside class=\"Uz1wuwlb\" data-v-7c75d25f=\"\" data-v-a9a8d948=\"\"><div class=\"a3bxGOB3\" data-v-0db7a2df=\"\" data-v-7c75d25f=\"\" id=\"YL2NF4KRH\"><h5 data-v-0db7a2df=\"\">최근 변경</h5> <div data-v-0db7a2df=\"\"><a data-v-0db7a2df=\"\"><span data-v-0db7a2df=\"\">00:00</span>갱신중...</a> <a data-v-0db7a2df=\"\"><span data-v-0db7a2df=\"\">00:00</span>갱신중...</a> <a data-v-0db7a2df=\"\"><span data-v-0db7a2df=\"\">00:00</span>갱신중...</a> <a data-v-0db7a2df=\"\"><span data-v-0db7a2df=\"\">00:00</span>갱신중...</a> <a data-v-0db7a2df=\"\"><span data-v-0db7a2df=\"\">00:00</span>갱신중...</a> <a data-v-0db7a2df=\"\"><span data-v-0db7a2df=\"\">00:00</span>갱신중...</a> <a data-v-0db7a2df=\"\"><span data-v-0db7a2df=\"\">00:00</span>갱신중...</a> <a data-v-0db7a2df=\"\"><span data-v-0db7a2df=\"\">00:00</span>갱신중...</a> <a data-v-0db7a2df=\"\"><span data-v-0db7a2df=\"\">00:00</span>갱신중...</a> <a data-v-0db7a2df=\"\"><span data-v-0db7a2df=\"\">00:00</span>갱신중...</a> <a data-v-0db7a2df=\"\"><span data-v-0db7a2df=\"\">00:00</span>갱신중...</a> <a data-v-0db7a2df=\"\"><span data-v-0db7a2df=\"\">00:00</span>갱신중...</a> <a data-v-0db7a2df=\"\"><span data-v-0db7a2df=\"\">00:00</span>갱신중...</a> <a data-v-0db7a2df=\"\"><span data-v-0db7a2df=\"\">00:00</span>갱신중...</a> <a data-v-0db7a2df=\"\"><span data-v-0db7a2df=\"\">00:00</span>갱신중...</a></div> <a data-v-0db7a2df=\"\" href=\"/RecentChanges\">[더 보기]</a></div><div class=\"JOysxoRw\" data-v-723cfd6a=\"\" data-v-7c75d25f=\"\" id=\"ubYXNNxzi\"><h5 data-v-723cfd6a=\"\">최근 변경</h5> <div data-v-723cfd6a=\"\"><a data-v-723cfd6a=\"\"><span data-v-723cfd6a=\"\">00:00</span>갱신중...</a> <a data-v-723cfd6a=\"\"><span data-v-723cfd6a=\"\">00:00</span>갱신중...</a> <a data-v-723cfd6a=\"\"><span data-v-723cfd6a=\"\">00:00</span>갱신중...</a> <a data-v-723cfd6a=\"\"><span data-v-723cfd6a=\"\">00:00</span>갱신중...</a> <a data-v-723cfd6a=\"\"><span data-v-723cfd6a=\"\">00:00</span>갱신중...</a> <a data-v-723cfd6a=\"\"><span data-v-723cfd6a=\"\">00:00</span>갱신중...</a> <a data-v-723cfd6a=\"\"><span data-v-723cfd6a=\"\">00:00</span>갱신중...</a> <a data-v-723cfd6a=\"\"><span data-v-723cfd6a=\"\">00:00</span>갱신중...</a> <a data-v-723cfd6a=\"\"><span data-v-723cfd6a=\"\">00:00</span>갱신중...</a> <a data-v-723cfd6a=\"\"><span data-v-723cfd6a=\"\">00:00</span>갱신중...</a> <a data-v-723cfd6a=\"\"><span data-v-723cfd6a=\"\">00:00</span>갱신중...</a> <a data-v-723cfd6a=\"\"><span data-v-723cfd6a=\"\">00:00</span>갱신중...</a> <a data-v-723cfd6a=\"\"><span data-v-723cfd6a=\"\">00:00</span>갱신중...</a> <a data-v-723cfd6a=\"\"><span data-v-723cfd6a=\"\">00:00</span>갱신중...</a> <a data-v-723cfd6a=\"\"><span data-v-723cfd6a=\"\">00:00</span>갱신중...</a> </div> <a data-v-723cfd6a=\"\" href=\"/RecentChanges\">[더 보기]</a></div><!-- --><div class=\"bIo6qjyE\" data-v-701b5a2e=\"\" data-v-7c75d25f=\"\"><div class=\"q1CS9izU\" data-v-701b5a2e=\"\">나무뉴스</div> <div class=\"P8LzQm3F\" data-v-701b5a2e=\"\"><a data-v-701b5a2e=\"\">갱신중...</a> <a data-v-701b5a2e=\"\">갱신중...</a> <a data-v-701b5a2e=\"\">갱신중...</a> <a data-v-701b5a2e=\"\">갱신중...</a> <a data-v-701b5a2e=\"\">갱신중...</a> </div> <a data-v-701b5a2e=\"\" href=\"https://namu.news/\" rel=\"noopener\" target=\"_blank\">[더 보기]</a></div><div class=\"a3bxGOB3\" data-v-4bd782db=\"\" data-v-7c75d25f=\"\" id=\"Ryoee7zSY\"><h5 data-v-4bd782db=\"\">최근 변경</h5> <div data-v-4bd782db=\"\"><a data-v-4bd782db=\"\"><span data-v-4bd782db=\"\">00:00</span>갱신중...</a> <a data-v-4bd782db=\"\"><span data-v-4bd782db=\"\">00:00</span>갱신중...</a> <a data-v-4bd782db=\"\"><span data-v-4bd782db=\"\">00:00</span>갱신중...</a> <a data-v-4bd782db=\"\"><span data-v-4bd782db=\"\">00:00</span>갱신중...</a> <a data-v-4bd782db=\"\"><span data-v-4bd782db=\"\">00:00</span>갱신중...</a> <a data-v-4bd782db=\"\"><span data-v-4bd782db=\"\">00:00</span>갱신중...</a> <a data-v-4bd782db=\"\"><span data-v-4bd782db=\"\">00:00</span>갱신중...</a> <a data-v-4bd782db=\"\"><span data-v-4bd782db=\"\">00:00</span>갱신중...</a> <a data-v-4bd782db=\"\"><span data-v-4bd782db=\"\">00:00</span>갱신중...</a> <a data-v-4bd782db=\"\"><span data-v-4bd782db=\"\">00:00</span>갱신중...</a> <a data-v-4bd782db=\"\"><span data-v-4bd782db=\"\">00:00</span>갱신중...</a> <a data-v-4bd782db=\"\"><span data-v-4bd782db=\"\">00:00</span>갱신중...</a> <a data-v-4bd782db=\"\"><span data-v-4bd782db=\"\">00:00</span>갱신중...</a> <a data-v-4bd782db=\"\"><span data-v-4bd782db=\"\">00:00</span>갱신중...</a> <a data-v-4bd782db=\"\"><span data-v-4bd782db=\"\">00:00</span>갱신중...</a></div> <a data-v-4bd782db=\"\" href=\"/RecentChanges\">[더 보기]</a></div><!-- --><div class=\"a3bxGOB3\" data-v-4580ca44=\"\" data-v-7c75d25f=\"\" id=\"A40xeAeUq\"><h5 data-v-4580ca44=\"\">최근 변경</h5> <div data-v-4580ca44=\"\"><a data-v-4580ca44=\"\"><span data-v-4580ca44=\"\">00:00</span>갱신중...</a> <a data-v-4580ca44=\"\"><span data-v-4580ca44=\"\">00:00</span>갱신중...</a> <a data-v-4580ca44=\"\"><span data-v-4580ca44=\"\">00:00</span>갱신중...</a> <a data-v-4580ca44=\"\"><span data-v-4580ca44=\"\">00:00</span>갱신중...</a> <a data-v-4580ca44=\"\"><span data-v-4580ca44=\"\">00:00</span>갱신중...</a> <a data-v-4580ca44=\"\"><span data-v-4580ca44=\"\">00:00</span>갱신중...</a> <a data-v-4580ca44=\"\"><span data-v-4580ca44=\"\">00:00</span>갱신중...</a> <a data-v-4580ca44=\"\"><span data-v-4580ca44=\"\">00:00</span>갱신중...</a> <a data-v-4580ca44=\"\"><span data-v-4580ca44=\"\">00:00</span>갱신중...</a> <a data-v-4580ca44=\"\"><span data-v-4580ca44=\"\">00:00</span>갱신중...</a> <a data-v-4580ca44=\"\"><span data-v-4580ca44=\"\">00:00</span>갱신중...</a> <a data-v-4580ca44=\"\"><span data-v-4580ca44=\"\">00:00</span>갱신중...</a> <a data-v-4580ca44=\"\"><span data-v-4580ca44=\"\">00:00</span>갱신중...</a> <a data-v-4580ca44=\"\"><span data-v-4580ca44=\"\">00:00</span>갱신중...</a> <a data-v-4580ca44=\"\"><span data-v-4580ca44=\"\">00:00</span>갱신중...</a></div> <a data-v-4580ca44=\"\" href=\"/RecentChanges\">[더 보기]</a></div><div class=\"a3bxGOB3\" data-v-7c75d25f=\"\" data-v-8b212a50=\"\" id=\"A4d9xPKh2\"><h5 data-v-8b212a50=\"\">최근 변경</h5> <div data-v-8b212a50=\"\"><a data-v-8b212a50=\"\"><span data-v-8b212a50=\"\">00:00</span>갱신중...</a> <a data-v-8b212a50=\"\"><span data-v-8b212a50=\"\">00:00</span>갱신중...</a> <a data-v-8b212a50=\"\"><span data-v-8b212a50=\"\">00:00</span>갱신중...</a> <a data-v-8b212a50=\"\"><span data-v-8b212a50=\"\">00:00</span>갱신중...</a> <a data-v-8b212a50=\"\"><span data-v-8b212a50=\"\">00:00</span>갱신중...</a> <a data-v-8b212a50=\"\"><span data-v-8b212a50=\"\">00:00</span>갱신중...</a> <a data-v-8b212a50=\"\"><span data-v-8b212a50=\"\">00:00</span>갱신중...</a> <a data-v-8b212a50=\"\"><span data-v-8b212a50=\"\">00:00</span>갱신중...</a> <a data-v-8b212a50=\"\"><span data-v-8b212a50=\"\">00:00</span>갱신중...</a> <a data-v-8b212a50=\"\"><span data-v-8b212a50=\"\">00:00</span>갱신중...</a> <a data-v-8b212a50=\"\"><span data-v-8b212a50=\"\">00:00</span>갱신중...</a> <a data-v-8b212a50=\"\"><span data-v-8b212a50=\"\">00:00</span>갱신중...</a> <a data-v-8b212a50=\"\"><span data-v-8b212a50=\"\">00:00</span>갱신중...</a> <a data-v-8b212a50=\"\"><span data-v-8b212a50=\"\">00:00</span>갱신중...</a> <a data-v-8b212a50=\"\"><span data-v-8b212a50=\"\">00:00</span>갱신중...</a></div> <a data-v-8b212a50=\"\" href=\"/RecentChanges\">[더 보기]</a></div></aside></div></div></div></div></div></div></div></div> <div data-v-3e64408a=\"\" data-v-a9a8d948=\"\"><div data-v-3e64408a=\"\" data-v-503d6149=\"\" id=\"CjCw0ZRQn\"><h5 data-v-503d6149=\"\">최근 변경</h5> <ul data-v-503d6149=\"\"><a data-v-503d6149=\"\"><span data-v-503d6149=\"\">00:00</span>갱신중...</a> <a data-v-503d6149=\"\"><span data-v-503d6149=\"\">00:00</span>갱신중...</a> <a data-v-503d6149=\"\"><span data-v-503d6149=\"\">00:00</span>갱신중...</a> <a data-v-503d6149=\"\"><span data-v-503d6149=\"\">00:00</span>갱신중...</a> <a data-v-503d6149=\"\"><span data-v-503d6149=\"\">00:00</span>갱신중...</a> </ul> <a data-v-503d6149=\"\" href=\"/RecentChanges\">[더 보기]</a></div> <div data-v-36e00563=\"\" data-v-3e64408a=\"\"><h5 data-v-36e00563=\"\">나무뉴스</h5> <ul data-v-36e00563=\"\"><li data-v-36e00563=\"\">갱신중...</li> <li data-v-36e00563=\"\">갱신중...</li> <li data-v-36e00563=\"\">갱신중...</li> <li data-v-36e00563=\"\">갱신중...</li> <li data-v-36e00563=\"\">갱신중...</li> <li data-v-36e00563=\"\">갱신중...</li> <li data-v-36e00563=\"\">갱신중...</li> <li data-v-36e00563=\"\">갱신중...</li> <li data-v-36e00563=\"\">갱신중...</li> <li data-v-36e00563=\"\">갱신중...</li> </ul> <a data-v-36e00563=\"\" href=\"https://namu.news/\" rel=\"noopener\" target=\"_blank\">[더 보기]</a></div> <footer data-v-3e64408a=\"\"><ul data-v-3e64408a=\"\"><li data-v-3e64408a=\"\"><a data-v-3e64408a=\"\" href=\"https://play.google.com/store/apps/details?id=net.umanle.namuwiki\" rel=\"noopener\" target=\"_blank\"><img alt=\"Play Store\" data-v-3e64408a=\"\" src=\"data:image/svg+xml;base64,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\"/></a></li> <li data-v-3e64408a=\"\"><a data-v-3e64408a=\"\" href=\"https://apps.apple.com/kr/app/id1623510780\" rel=\"noopener\" target=\"_blank\"><img alt=\"App Store\" data-v-3e64408a=\"\" src=\"data:image/svg+xml;base64,PHN2ZyB4bWxucz0iaHR0cDovL3d3dy53My5vcmcvMjAwMC9zdmciIHhtbG5zOnhsaW5rPSJodHRwOi8vd3d3LnczLm9yZy8xOTk5L3hsaW5rIiB2aWV3Qm94PSIwIDAgODAwLjEgODAwIj48ZGVmcz48bGluZWFyR3JhZGllbnQgaWQ9ImxpbmVhci1ncmFkaWVudCIgeDE9IjE1Ny42ODgiIHkxPSI1ODIuMTczIiB4Mj0iMTU3LjY4OCIgeTI9IjEzODIuMTczIiBncmFkaWVudFRyYW5zZm9ybT0idHJhbnNsYXRlKDI0Mi4zNjIgLTU4Mi4xNzMpIiBncmFkaWVudFVuaXRzPSJ1c2VyU3BhY2VPblVzZSI+PHN0b3Agb2Zmc2V0PSIwIiBzdG9wLWNvbG9yPSIjMThiZmZiIj48L3N0b3A+PHN0b3Agb2Zmc2V0PSIxIiBzdG9wLWNvbG9yPSIjMjA3MmYzIj48L3N0b3A+PC9saW5lYXJHcmFkaWVudD48L2RlZnM+PGcgaWQ9IkxheWVyXzIiPjxnIGlkPSJMYXllcl8xLTIiPjxwYXRoIGQ9Ik02MzguNCwwSDE2MS42QTE2MS41MzUsMTYxLjUzNSwwLDAsMCwwLDE2MS42VjYzOC41QTE2MS41MTQsMTYxLjUxNCwwLDAsMCwxNjEuNiw4MDBINjM4LjVBMTYxLjYsMTYxLjYsMCwwLDAsODAwLjEsNjM4LjRWMTYxLjZBMTYxLjY4NCwxNjEuNjg0LDAsMCwwLDYzOC40LDBaIiBzdHlsZT0iZmlsbDp1cmwoI2xpbmVhci1ncmFkaWVudCkiPjwvcGF0aD48cGF0aCBkPSJNMzk2LjYsMTgzLjhsMTYuMi0yOEEzNi40NjYsMzYuNDY2LDAsMSwxLDQ3NiwxOTIuMkwzMTkuOSw0NjIuNEg0MzIuOGMzNi42LDAsNTcuMSw0Myw0MS4yLDcyLjhIMTQzYTM2LjQsMzYuNCwwLDEsMSwwLTcyLjhoOTIuOEwzNTQuNiwyNTYuNWwtMzcuMS02NC40YTM2LjQ2NiwzNi40NjYsMCwwLDEsNjMuMi0zNi40bDE1LjksMjguMVpNMjU2LjIsNTcyLjdsLTM1LDYwLjdBMzYuNDY2LDM2LjQ2NiwwLDAsMSwxNTgsNTk3bDI2LTQ1YzI5LjQtOS4xLDUzLjMtMi4xLDcyLjIsMjAuN1pNNTU3LjYsNDYyLjZoOTQuN2EzNi40LDM2LjQsMCwxLDEsMCw3Mi44SDU5OS43TDYzNS4yLDU5N0EzNi40NjYsMzYuNDY2LDAsMCwxLDU3Miw2MzMuNHEtODkuNy0xNTUuNTUtMTM0LjUtMjMzQzQwNywzNDcuOCw0MjguOCwyOTUsNDUwLjMsMjc3LjFxMzUuODUsNjEuNSwxMDcuMywxODUuNVoiIHN0eWxlPSJmaWxsOiNmZmYiPjwvcGF0aD48L2c+PC9nPjwvc3ZnPgo=\"/></a></li></ul> <p data-v-3e64408a=\"\">namu.wiki<span class=\"GG1rJcM0\" data-v-3e64408a=\"\"></span><a data-v-3e64408a=\"\" href=\"mailto:support@namu.wiki\">Contáctenos</a><span class=\"GG1rJcM0\" data-v-3e64408a=\"\"></span><a data-v-3e64408a=\"\" href=\"/Policy\">Términos de uso</a><span class=\"GG1rJcM0\" data-v-3e64408a=\"\"></span>Operado por umanle S.R.L.<span class=\"GG1rJcM0\" data-v-3e64408a=\"\"></span>Hecho con &lt;3 en Asunción, República del Paraguay</p> <p data-v-3e64408a=\"\">Su zona horaria es <span data-v-3e64408a=\"\">GMT</span><span class=\"GG1rJcM0\" data-v-3e64408a=\"\"></span>Impulsado por <i data-v-3e64408a=\"\">the seed engine</i></p> <p class=\"bjzDDKXI\" data-v-3e64408a=\"\">This site is protected by reCAPTCHA and the Google <a data-v-3e64408a=\"\" href=\"https://policies.google.com/privacy\" rel=\"nofollow noopener\" target=\"_blank\">Privacy Policy</a> and <a data-v-3e64408a=\"\" href=\"https://policies.google.com/terms\" rel=\"nofollow noopener\" target=\"_blank\">Terms of Service</a> apply.<br data-v-3e64408a=\"\"/>This site is protected by hCaptcha and its <a data-v-3e64408a=\"\" href=\"https://hcaptcha.com/privacy\" rel=\"nofollow noopener\" target=\"_blank\">Privacy Policy</a> and <a data-v-3e64408a=\"\" href=\"https://hcaptcha.com/terms\" rel=\"nofollow noopener\" target=\"_blank\">Terms of Service</a> apply.</p></footer></div> <!-- --> <ul data-v-82527b26=\"\" data-v-a9a8d948=\"\"><li data-v-82527b26=\"\"><a data-v-82527b26=\"\" href=\"#\"><span class=\"ion-ios-cog\" data-v-82527b26=\"\"></span></a></li> <li data-v-82527b26=\"\"><a data-v-82527b26=\"\" href=\"#\"><span class=\"ion-ios-arrow-up\" data-v-82527b26=\"\"></span></a></li> <li data-v-82527b26=\"\"><a data-v-82527b26=\"\" href=\"#\"><span class=\"ion-ios-arrow-down\" data-v-82527b26=\"\"></span></a></li></ul> <!-- --></div><!-- --><!-- --></div><script>window.INITIAL_STATE={\"config\":{\"wiki.editagree_text\":\"문서 편집을 \\u003Cstrong\\u003E저장\\u003C/strong\\u003E하면 당신은 기여한 내용을 \\u003Cstrong\\u003ECC-BY-NC-SA 2.0 KR\\u003C/strong\\u003E으로 배포하고 기여한 문서에 대한 하이퍼링크나 URL을 이용하여 저작자 표시를 하는 것으로 충분하다는 데 동의하는 것입니다. 이 \\u003Cstrong\\u003E동의는 철회할 수 없습니다.\\u003C/strong\\u003E\",\"wiki.front_page\":\"나무위키:대문\",\"wiki.site_name\":\"나무위키\",\"wiki.copyright_url\":\"//creativecommons.org/licenses/by-nc-sa/2.0/kr/\",\"wiki.canonical_url\":\"https://namu.wiki\",\"wiki.copyright_text\":\"\\u003Cimg alt=\\\"크리에이티브 커먼즈 라이선스\\\" style=\\\"border-width: 0;\\\" src=\\\"/img/cc-by-nc-sa-2.0-88x31.png\\\" width=\\\"88\\\" height=\\\"31\\\"\\u003E\\u003Cbr\\u003E이 저작물은 \\u003Ca rel=\\\"license\\\" href=\\\"//creativecommons.org/licenses/by-nc-sa/2.0/kr/\\\" target=\\\"_blank\\\" rel=\\\"nofollow noopener\\\" \\u003ECC BY-NC-SA 2.0 KR\\u003C/a\\u003E에 따라 이용할 수 있습니다. (단, 라이선스가 명시된 일부 문서 및 삽화 제외)\\u003Cbr\\u003E기여하신 문서의 저작권은 각 기여자에게 있으며, 각 기여자는 기여하신 부분의 저작권을 갖습니다.\\u003Cbr\\u003E\\u003Cbr\\u003E나무위키는 백과사전이 아니며 검증되지 않았거나, 편향적이거나, 잘못된 서술이 있을 수 있습니다.\\u003Cbr\\u003E나무위키는 위키위키입니다. 여러분이 직접 문서를 고칠 수 있으며, 다른 사람의 의견을 원할 경우 직접 토론을 발제할 수 있습니다.\",\"wiki.logo_url\":\"/img/icon.png\"},\"localConfig\":{},\"_544e3803\":{\"_3b368bc6\":\"분류:정수/w/분류:다각수\",\"_37ffd399\":9166500,\"_ca396fa1\":{\"_0c7d60e2\":{\"_72936ec5\":\"분류\",\"_3b368bc6\":\"정수/w/분류:다각수\",\"_bf8890fa\":null},\"_292f2df4\":[],\"_72b751a4\":null,\"_a961f8f8\":false,\"_bd7ed589\":{}},\"_ddd28064\":{\"sa\":\"603647186\",\"sb\":\"3803407167\",\"sc\":\"1344848477\",\"sd\":\"3463099009\"},\"_6553917c\":[]},\"_e4dbf395\":{\"_68e50004\":null,\"_d714d1f6\":\"121.140.251.53\",\"_a48aeca6\":\"i:121.140.251.53\",\"_6553917c\":[]},\"_556ef4b9\":{},\"_46a86a8d\":\"92be76b014bc8353e135b52843a7ac02\",\"_2497f075\":\"436b434cc864b3fcf022f2a25ed9c370\",\"page\":{\"viewName\":\"notfound\",\"data\":{\"document\":{\"_72936ec5\":\"분류\",\"_3b368bc6\":\"정수/w/분류:다각수\",\"_bf8890fa\":null,\"namespace\":\"분류\",\"title\":\"정수/w/분류:다각수\",\"forceShowNamespace\":null},\"discuss_progress\":false,\"user\":false},\"title\":\"분류:정수/w/분류:다각수\",\"menus\":[]},\"session\":{\"menus\":[],\"member\":null,\"ip\":\"121.140.251.53\"}}</script><script defer=\"\" src=\"/skins/senkawa/manifest.ed4423bfd2d99245735a.js\"></script><script defer=\"\" src=\"/skins/senkawa/7.476bc85b8160d2b1ce9d.js\"></script><script defer=\"\" src=\"/skins/senkawa/vendor.069482f2d172c6ff4410.js\"></script><script defer=\"\" src=\"/skins/senkawa/main.6ca3f4146d57e5f465f0.js\"></script><script>(function(){var js = \"window['__CF$cv$params']={r:'846d0f976e043152',t:'MTcwNTQ3ODM4OC40NDUwMDA='};_cpo=document.createElement('script');_cpo.nonce='',_cpo.src='/cdn-cgi/challenge-platform/scripts/jsd/main.js',document.getElementsByTagName('head')[0].appendChild(_cpo);\";var _0xh = document.createElement('iframe');_0xh.height = 1;_0xh.width = 1;_0xh.style.position = 'absolute';_0xh.style.top = 0;_0xh.style.left = 0;_0xh.style.border = 'none';_0xh.style.visibility = 'hidden';document.body.appendChild(_0xh);function handler() {var _0xi = _0xh.contentDocument || _0xh.contentWindow.document;if (_0xi) {var _0xj = _0xi.createElement('script');_0xj.innerHTML = js;_0xi.getElementsByTagName('head')[0].appendChild(_0xj);}}if (document.readyState !== 'loading') {handler();} else if (window.addEventListener) {document.addEventListener('DOMContentLoaded', handler);} else {var prev = document.onreadystatechange || function () {};document.onreadystatechange = function (e) {prev(e);if (document.readyState !== 'loading') {document.onreadystatechange = prev;handler();}};}})();</script></body></html>\n"
     ]
    }
   ],
   "source": [
    "if __name__ == \"__main__\":\n",
    "    result_2 = []\n",
    "\n",
    "    start_time = time.time()\n",
    "    \n",
    "    for url in urls:\n",
    "        result_2.extend(do_thread_crawl(get_sublist_href(url)))\n",
    "        \n",
    "    print(\"--- elapsed time %s seconds ---\" % (time.time() - start_time))\n",
    "    print(\"len(result_2) :\", len(result_2))\n",
    "    print(\"type(result_2) :\", type(result_2))\n",
    "    print(\"type(result_2[0]) :\", type(result_2[0]))\n",
    "    print(\"result_2[6] :\", result_2[6])\n",
    "    \n",
    "# get_sublist_href() 에서 링크들 따고 do_html_crawl() 에서 soup 받아옴"
   ]
  },
  {
   "cell_type": "markdown",
   "id": "2c18d26c-7cbb-4562-a4bc-464bab2f2132",
   "metadata": {},
   "source": [
    "### a-3. 예제 : 멀티프로세싱"
   ]
  },
  {
   "cell_type": "markdown",
   "id": "ec1f2191-ebe9-40a9-b4cf-391f96d42260",
   "metadata": {},
   "source": [
    "#### a-3-1. 함수 정의"
   ]
  },
  {
   "cell_type": "code",
   "execution_count": 6,
   "id": "cf31550f-5f1c-46b6-baff-ae8233a2b659",
   "metadata": {},
   "outputs": [],
   "source": [
    "def do_process_with_thread_crawl(url: str):\n",
    "    return do_thread_crawl(get_sublist_href(url))  # soup의 리스트 리턴"
   ]
  },
  {
   "cell_type": "code",
   "execution_count": null,
   "id": "e3295ec0-6c06-4098-a5e0-6864fbf2a39a",
   "metadata": {},
   "outputs": [],
   "source": [
    "if __name__ == \"__main__\":\n",
    "    print(\"A\")\n",
    "    \n",
    "    result_3 = []\n",
    "    start_time = time.time()\n",
    "\n",
    "    print(\"B\")\n",
    "    with Pool(processes=4) as pool:  \n",
    "        result_3.extend((pool.map(do_process_with_thread_crawl, urls)))\n",
    "        print(\"--- elapsed time %s seconds ---\" % (time.time() - start_time))"
   ]
  },
  {
   "cell_type": "markdown",
   "id": "3dc9b189-a120-4055-931d-2e2ace7de57c",
   "metadata": {},
   "source": [
    "#### a-3-2. 실행\n",
    "- 왠진 모르지만, Jupyter Notebook 에서는 실행이 멈춘다.\n",
    "- Pycharm에서 해보니, 정상적으로 작동한다.\n",
    "- 실행 시간은 약 5.9초 (113.494초 -> 29.475초 -> 5.9초, 시간 94.80% 단축)"
   ]
  },
  {
   "cell_type": "markdown",
   "id": "97039992-af1d-4686-92ec-b3b5074a5f0e",
   "metadata": {
    "jp-MarkdownHeadingCollapsed": true
   },
   "source": [
    "### a-4. 코어 수 확인\n",
    "- 멀티프로세싱 할 때, 컴퓨터의 코어 수에 맞게 프로세스를 생성해야 한다.\n",
    "- 너무 많이 생성하면 의미가 없음"
   ]
  },
  {
   "cell_type": "code",
   "execution_count": 42,
   "id": "aaee082f-8c08-491f-a560-577468c229ca",
   "metadata": {},
   "outputs": [
    {
     "name": "stdout",
     "output_type": "stream",
     "text": [
      "CPU 코어 수: 20\n"
     ]
    }
   ],
   "source": [
    "import os\n",
    "\n",
    "cpu_cores = os.cpu_count()\n",
    "print(\"CPU 코어 수:\", cpu_cores)"
   ]
  },
  {
   "cell_type": "code",
   "execution_count": 43,
   "id": "d12941bd-838e-4129-a1f9-4a8969c6a779",
   "metadata": {},
   "outputs": [
    {
     "name": "stdout",
     "output_type": "stream",
     "text": [
      "CPU 코어 수: 20\n"
     ]
    }
   ],
   "source": [
    "import multiprocessing\n",
    "\n",
    "cpu_cores = multiprocessing.cpu_count()\n",
    "print(\"CPU 코어 수:\", cpu_cores)"
   ]
  }
 ],
 "metadata": {
  "kernelspec": {
   "display_name": "Python 3 (ipykernel)",
   "language": "python",
   "name": "python3"
  },
  "language_info": {
   "codemirror_mode": {
    "name": "ipython",
    "version": 3
   },
   "file_extension": ".py",
   "mimetype": "text/x-python",
   "name": "python",
   "nbconvert_exporter": "python",
   "pygments_lexer": "ipython3",
   "version": "3.8.18"
  }
 },
 "nbformat": 4,
 "nbformat_minor": 5
}
